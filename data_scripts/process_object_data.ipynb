{
 "cells": [
  {
   "cell_type": "code",
   "execution_count": 1,
   "metadata": {},
   "outputs": [],
   "source": [
    "import os\n",
    "import numpy as np\n",
    "import json\n",
    "import pandas as pd\n",
    "import seaborn as sns\n",
    "import matplotlib.pyplot as plt"
   ]
  },
  {
   "cell_type": "markdown",
   "metadata": {},
   "source": [
    "# Dataset Paths"
   ]
  },
  {
   "cell_type": "code",
   "execution_count": 15,
   "metadata": {},
   "outputs": [],
   "source": [
    "num_selected_category = 1\n",
    "num_selected_data_type = 1\n",
    "available_categories = [\"Shape\", \"Culture\"]\n",
    "available_data_types = [\"train\", \"test\"]\n",
    "data_type = available_data_types[num_selected_data_type]\n",
    "selected_category = available_categories[num_selected_category]\n",
    "dataset_path = \"D:/dataset\"+selected_category\n",
    "cla_file_path = os.path.join(dataset_path, \"dataset.cla\")"
   ]
  },
  {
   "cell_type": "code",
   "execution_count": 16,
   "metadata": {},
   "outputs": [],
   "source": [
    "def obtain_models_classes(cla_file_path):\n",
    "    \"\"\"\n",
    "    Takes the path to a .cla file and returns two lists. The returned categories list corresponds to a list of\n",
    "    strings that contains the class values. The second list contains a set of arrays that contains the number of the\n",
    "    models in the corresponding class.\n",
    "    :param cla_file_path:\n",
    "    :return: categories, model_lists\n",
    "    \"\"\"\n",
    "    with open(cla_file_path) as f:\n",
    "        arr = [line.replace(\"\\n\", \"\") for line in f]\n",
    "    #print(arr)\n",
    "    # Read from the .cla file the number of categories\n",
    "    num_categories = int(arr[1].split(\" \")[0])\n",
    "    #print(num_categories)\n",
    "    initial_index = 3# Index for starting to read in the .cla file\n",
    "    categories = []\n",
    "    model_lists = []\n",
    "    for num_category in range(num_categories):\n",
    "        # Add a class to the category list\n",
    "        categories.append(arr[initial_index].split(\" \")[0])\n",
    "        # Read in the .cla file the number of models for that given class\n",
    "        ## THIS ONE WAS MODIFIED FOR 2018 SUBSTITUTED SPLIT \" \" FOR \"_\"\n",
    "        print('Initial index',arr[initial_index])\n",
    "        num_models = int(arr[initial_index].split(\" \")[-1])\n",
    "\n",
    "        # Read the model numbers from the .cla file and save them in an array\n",
    "        array_models = np.zeros(num_models, dtype=int)\n",
    "        for num_model in range(num_models):\n",
    "            array_models[num_model] = int(arr[initial_index + 1 + num_model].split('_')[-1])\n",
    "        initial_index += num_models + 2\n",
    "        model_lists.append(array_models)\n",
    "    return categories, model_lists"
   ]
  },
  {
   "cell_type": "code",
   "execution_count": 17,
   "metadata": {},
   "outputs": [
    {
     "name": "stdout",
     "output_type": "stream",
     "text": [
      "Initial index CHANCAY 0 43\n",
      "Initial index LURIN 0 319\n",
      "Initial index MARANGA 0 15\n",
      "Initial index NAZCA 0 5\n",
      "Initial index PANDO 0 38\n",
      "Initial index SUPE 0 28\n"
     ]
    }
   ],
   "source": [
    "# Load list of models per category\n",
    "categories, model_lists = obtain_models_classes(cla_file_path)\n",
    "\n",
    "# Create a dictionary of \n",
    "dictionary_objects = {}\n",
    "for num_class, objects in enumerate(model_lists):\n",
    "    for object_id in objects:\n",
    "        dictionary_objects.update({int(object_id):[int(num_class),str(categories[num_class])]})\n",
    "        \n",
    "        \n",
    "save_path = os.path.join(dataset_path,data_type+\"_object_dictionary\")\n",
    "os.makedirs(save_path, exist_ok = True)\n",
    "with open(os.path.join(save_path,'data_classes.json'), 'w') as outfile:\n",
    "    json.dump(dictionary_objects, outfile)"
   ]
  },
  {
   "cell_type": "code",
   "execution_count": 18,
   "metadata": {},
   "outputs": [],
   "source": [
    "with open(os.path.join(save_path,'data_dimensions.json')) as json_file:\n",
    "    data_dimensions = json.load(json_file)\n",
    "if data_type == \"train\":\n",
    "    with open(os.path.join(save_path, 'data_classes.json')) as json_file:\n",
    "        data_class = json.load(json_file)\n",
    "else:\n",
    "    data_class = None"
   ]
  },
  {
   "cell_type": "code",
   "execution_count": 19,
   "metadata": {},
   "outputs": [],
   "source": [
    "joined_dictionary = {}\n",
    "sorted_keys = np.sort([int(key) for key in data_dimensions.keys()])\n",
    "sorted_keys = [str(key) for key in sorted_keys]\n",
    "for key in sorted_keys:\n",
    "    if data_class is None:\n",
    "        object_dictionary = {\"d1\": data_dimensions[key][0],\n",
    "                            \"d2\": data_dimensions[key][1],\n",
    "                            \"d3\": data_dimensions[key][2],\n",
    "                            \"dmin\": np.amin(data_dimensions[key]),\n",
    "                            \"dmax\": np.amax(data_dimensions[key]),\n",
    "                            \"num_class\": [],\n",
    "                            \"class\": [],\n",
    "                            \"category\": selected_category}\n",
    "    else:\n",
    "        object_dictionary = {\"d1\": data_dimensions[key][0],\n",
    "                            \"d2\": data_dimensions[key][1],\n",
    "                            \"d3\": data_dimensions[key][2],\n",
    "                            \"dmin\": np.amin(data_dimensions[key]),\n",
    "                            \"dmax\": np.amax(data_dimensions[key]),\n",
    "                            \"num_class\": data_class[key][0],\n",
    "                            \"class\": data_class[key][1],\n",
    "                            \"category\": selected_category}\n",
    "    joined_dictionary.update({int(key):object_dictionary})\n"
   ]
  },
  {
   "cell_type": "code",
   "execution_count": 20,
   "metadata": {},
   "outputs": [],
   "source": [
    "joined_dictionary\n",
    "with open(os.path.join(save_path,'data.json'), 'w') as outfile:\n",
    "    json.dump(joined_dictionary, outfile)"
   ]
  },
  {
   "cell_type": "code",
   "execution_count": 21,
   "metadata": {},
   "outputs": [],
   "source": [
    "df = pd.DataFrame.from_dict(joined_dictionary, orient = \"index\")"
   ]
  },
  {
   "cell_type": "code",
   "execution_count": 22,
   "metadata": {},
   "outputs": [
    {
     "data": {
      "text/html": [
       "<div>\n",
       "<style scoped>\n",
       "    .dataframe tbody tr th:only-of-type {\n",
       "        vertical-align: middle;\n",
       "    }\n",
       "\n",
       "    .dataframe tbody tr th {\n",
       "        vertical-align: top;\n",
       "    }\n",
       "\n",
       "    .dataframe thead th {\n",
       "        text-align: right;\n",
       "    }\n",
       "</style>\n",
       "<table border=\"1\" class=\"dataframe\">\n",
       "  <thead>\n",
       "    <tr style=\"text-align: right;\">\n",
       "      <th></th>\n",
       "      <th>d1</th>\n",
       "      <th>d2</th>\n",
       "      <th>d3</th>\n",
       "      <th>dmin</th>\n",
       "      <th>dmax</th>\n",
       "      <th>num_class</th>\n",
       "      <th>class</th>\n",
       "      <th>category</th>\n",
       "    </tr>\n",
       "  </thead>\n",
       "  <tbody>\n",
       "    <tr>\n",
       "      <th>0</th>\n",
       "      <td>117.579201</td>\n",
       "      <td>42.644798</td>\n",
       "      <td>126.872803</td>\n",
       "      <td>42.644798</td>\n",
       "      <td>126.872803</td>\n",
       "      <td>[]</td>\n",
       "      <td>[]</td>\n",
       "      <td>Culture</td>\n",
       "    </tr>\n",
       "    <tr>\n",
       "      <th>1</th>\n",
       "      <td>50.326401</td>\n",
       "      <td>26.056890</td>\n",
       "      <td>51.453598</td>\n",
       "      <td>26.056890</td>\n",
       "      <td>51.453598</td>\n",
       "      <td>[]</td>\n",
       "      <td>[]</td>\n",
       "      <td>Culture</td>\n",
       "    </tr>\n",
       "    <tr>\n",
       "      <th>2</th>\n",
       "      <td>27.255199</td>\n",
       "      <td>58.000999</td>\n",
       "      <td>36.589401</td>\n",
       "      <td>27.255199</td>\n",
       "      <td>58.000999</td>\n",
       "      <td>[]</td>\n",
       "      <td>[]</td>\n",
       "      <td>Culture</td>\n",
       "    </tr>\n",
       "    <tr>\n",
       "      <th>3</th>\n",
       "      <td>32.636497</td>\n",
       "      <td>87.866798</td>\n",
       "      <td>52.709000</td>\n",
       "      <td>32.636497</td>\n",
       "      <td>87.866798</td>\n",
       "      <td>[]</td>\n",
       "      <td>[]</td>\n",
       "      <td>Culture</td>\n",
       "    </tr>\n",
       "    <tr>\n",
       "      <th>4</th>\n",
       "      <td>62.981499</td>\n",
       "      <td>133.443298</td>\n",
       "      <td>48.546700</td>\n",
       "      <td>48.546700</td>\n",
       "      <td>133.443298</td>\n",
       "      <td>[]</td>\n",
       "      <td>[]</td>\n",
       "      <td>Culture</td>\n",
       "    </tr>\n",
       "    <tr>\n",
       "      <th>...</th>\n",
       "      <td>...</td>\n",
       "      <td>...</td>\n",
       "      <td>...</td>\n",
       "      <td>...</td>\n",
       "      <td>...</td>\n",
       "      <td>...</td>\n",
       "      <td>...</td>\n",
       "      <td>...</td>\n",
       "    </tr>\n",
       "    <tr>\n",
       "      <th>184</th>\n",
       "      <td>171.521805</td>\n",
       "      <td>74.555603</td>\n",
       "      <td>169.499786</td>\n",
       "      <td>74.555603</td>\n",
       "      <td>171.521805</td>\n",
       "      <td>[]</td>\n",
       "      <td>[]</td>\n",
       "      <td>Culture</td>\n",
       "    </tr>\n",
       "    <tr>\n",
       "      <th>185</th>\n",
       "      <td>148.039505</td>\n",
       "      <td>83.505402</td>\n",
       "      <td>115.790100</td>\n",
       "      <td>83.505402</td>\n",
       "      <td>148.039505</td>\n",
       "      <td>[]</td>\n",
       "      <td>[]</td>\n",
       "      <td>Culture</td>\n",
       "    </tr>\n",
       "    <tr>\n",
       "      <th>186</th>\n",
       "      <td>118.180901</td>\n",
       "      <td>121.127998</td>\n",
       "      <td>142.475601</td>\n",
       "      <td>118.180901</td>\n",
       "      <td>142.475601</td>\n",
       "      <td>[]</td>\n",
       "      <td>[]</td>\n",
       "      <td>Culture</td>\n",
       "    </tr>\n",
       "    <tr>\n",
       "      <th>187</th>\n",
       "      <td>154.084900</td>\n",
       "      <td>72.813301</td>\n",
       "      <td>154.586212</td>\n",
       "      <td>72.813301</td>\n",
       "      <td>154.586212</td>\n",
       "      <td>[]</td>\n",
       "      <td>[]</td>\n",
       "      <td>Culture</td>\n",
       "    </tr>\n",
       "    <tr>\n",
       "      <th>188</th>\n",
       "      <td>138.101700</td>\n",
       "      <td>128.011200</td>\n",
       "      <td>134.739395</td>\n",
       "      <td>128.011200</td>\n",
       "      <td>138.101700</td>\n",
       "      <td>[]</td>\n",
       "      <td>[]</td>\n",
       "      <td>Culture</td>\n",
       "    </tr>\n",
       "  </tbody>\n",
       "</table>\n",
       "<p>189 rows × 8 columns</p>\n",
       "</div>"
      ],
      "text/plain": [
       "             d1          d2          d3        dmin        dmax num_class  \\\n",
       "0    117.579201   42.644798  126.872803   42.644798  126.872803        []   \n",
       "1     50.326401   26.056890   51.453598   26.056890   51.453598        []   \n",
       "2     27.255199   58.000999   36.589401   27.255199   58.000999        []   \n",
       "3     32.636497   87.866798   52.709000   32.636497   87.866798        []   \n",
       "4     62.981499  133.443298   48.546700   48.546700  133.443298        []   \n",
       "..          ...         ...         ...         ...         ...       ...   \n",
       "184  171.521805   74.555603  169.499786   74.555603  171.521805        []   \n",
       "185  148.039505   83.505402  115.790100   83.505402  148.039505        []   \n",
       "186  118.180901  121.127998  142.475601  118.180901  142.475601        []   \n",
       "187  154.084900   72.813301  154.586212   72.813301  154.586212        []   \n",
       "188  138.101700  128.011200  134.739395  128.011200  138.101700        []   \n",
       "\n",
       "    class category  \n",
       "0      []  Culture  \n",
       "1      []  Culture  \n",
       "2      []  Culture  \n",
       "3      []  Culture  \n",
       "4      []  Culture  \n",
       "..    ...      ...  \n",
       "184    []  Culture  \n",
       "185    []  Culture  \n",
       "186    []  Culture  \n",
       "187    []  Culture  \n",
       "188    []  Culture  \n",
       "\n",
       "[189 rows x 8 columns]"
      ]
     },
     "execution_count": 22,
     "metadata": {},
     "output_type": "execute_result"
    }
   ],
   "source": [
    "df"
   ]
  },
  {
   "cell_type": "code",
   "execution_count": 90,
   "metadata": {},
   "outputs": [
    {
     "data": {
      "text/plain": [
       "<matplotlib.axes._subplots.AxesSubplot at 0x2564eaf10c8>"
      ]
     },
     "execution_count": 90,
     "metadata": {},
     "output_type": "execute_result"
    },
    {
     "data": {
      "image/png": "[encoded data removed]",
      "text/plain": [
       "<Figure size 432x288 with 1 Axes>"
      ]
     },
     "metadata": {
      "needs_background": "light"
     },
     "output_type": "display_data"
    }
   ],
   "source": [
    "sns.histplot(df, x = \"d1\")"
   ]
  },
  {
   "cell_type": "code",
   "execution_count": 91,
   "metadata": {},
   "outputs": [
    {
     "data": {
      "text/plain": [
       "<matplotlib.axes._subplots.AxesSubplot at 0x25650ce1848>"
      ]
     },
     "execution_count": 91,
     "metadata": {},
     "output_type": "execute_result"
    },
    {
     "data": {
      "image/png": "[encoded data removed]",
      "text/plain": [
       "<Figure size 432x288 with 1 Axes>"
      ]
     },
     "metadata": {
      "needs_background": "light"
     },
     "output_type": "display_data"
    }
   ],
   "source": [
    "sns.histplot(df, x = \"d2\")"
   ]
  },
  {
   "cell_type": "code",
   "execution_count": 92,
   "metadata": {},
   "outputs": [
    {
     "data": {
      "text/plain": [
       "<matplotlib.axes._subplots.AxesSubplot at 0x25650ce7088>"
      ]
     },
     "execution_count": 92,
     "metadata": {},
     "output_type": "execute_result"
    },
    {
     "data": {
      "image/png": "[encoded data removed]",
      "text/plain": [
       "<Figure size 432x288 with 1 Axes>"
      ]
     },
     "metadata": {
      "needs_background": "light"
     },
     "output_type": "display_data"
    }
   ],
   "source": [
    "sns.histplot(df, x = \"d3\",hue = \"class\", multiple = \"stack\")"
   ]
  },
  {
   "cell_type": "code",
   "execution_count": 93,
   "metadata": {},
   "outputs": [
    {
     "data": {
      "text/plain": [
       "Text(0.5, 1.0, 'Minimum object size per Shape histogram')"
      ]
     },
     "execution_count": 93,
     "metadata": {},
     "output_type": "execute_result"
    },
    {
     "data": {
      "image/png": "[encoded data removed]",
      "text/plain": [
       "<Figure size 432x288 with 1 Axes>"
      ]
     },
     "metadata": {
      "needs_background": "light"
     },
     "output_type": "display_data"
    }
   ],
   "source": [
    "sns.histplot(df, x = \"dmin\",hue = \"class\", multiple = \"stack\")\n",
    "plt.title(\"Minimum object size per \"+selected_category+\" histogram\")"
   ]
  },
  {
   "cell_type": "code",
   "execution_count": 94,
   "metadata": {},
   "outputs": [
    {
     "data": {
      "text/plain": [
       "Text(0.5, 1.0, 'Maximum object size per Shape histogram')"
      ]
     },
     "execution_count": 94,
     "metadata": {},
     "output_type": "execute_result"
    },
    {
     "data": {
      "image/png": "[encoded data removed]",
      "text/plain": [
       "<Figure size 432x288 with 1 Axes>"
      ]
     },
     "metadata": {
      "needs_background": "light"
     },
     "output_type": "display_data"
    }
   ],
   "source": [
    "sns.histplot(df, x = \"dmax\", hue = \"class\", multiple = \"stack\")\n",
    "plt.title(\"Maximum object size per \"+selected_category+\" histogram\")"
   ]
  },
  {
   "cell_type": "code",
   "execution_count": 95,
   "metadata": {},
   "outputs": [
    {
     "data": {
      "text/plain": [
       "Text(0.5, 1.0, 'Proportion of classes Shape')"
      ]
     },
     "execution_count": 95,
     "metadata": {},
     "output_type": "execute_result"
    },
    {
     "data": {
      "image/png": "[encoded data removed]",
      "text/plain": [
       "<Figure size 432x288 with 1 Axes>"
      ]
     },
     "metadata": {
      "needs_background": "light"
     },
     "output_type": "display_data"
    }
   ],
   "source": [
    "\n",
    "sns.histplot(df, x = \"class\", stat = \"probability\" )\n",
    "plt.title(\"Proportion of classes \"+selected_category)"
   ]
  },
  {
   "cell_type": "code",
   "execution_count": null,
   "metadata": {},
   "outputs": [],
   "source": []
  },
  {
   "cell_type": "code",
   "execution_count": null,
   "metadata": {},
   "outputs": [],
   "source": []
  },
  {
   "cell_type": "code",
   "execution_count": null,
   "metadata": {},
   "outputs": [],
   "source": []
  }
 ],
 "metadata": {
  "kernelspec": {
   "display_name": "disentangling-everything",
   "language": "python",
   "name": "disentangling-everything"
  },
  "language_info": {
   "codemirror_mode": {
    "name": "ipython",
    "version": 3
   },
   "file_extension": ".py",
   "mimetype": "text/x-python",
   "name": "python",
   "nbconvert_exporter": "python",
   "pygments_lexer": "ipython3",
   "version": "3.7.7"
  }
 },
 "nbformat": 4,
 "nbformat_minor": 4
}
